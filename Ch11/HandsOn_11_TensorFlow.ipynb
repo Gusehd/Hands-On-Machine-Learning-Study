{
  "nbformat": 4,
  "nbformat_minor": 0,
  "metadata": {
    "colab": {
      "name": "HandsOn_11_TensorFlow.ipynb",
      "provenance": [],
      "collapsed_sections": []
    },
    "kernelspec": {
      "name": "python3",
      "display_name": "Python 3"
    },
    "language_info": {
      "name": "python"
    }
  },
  "cells": [
    {
      "cell_type": "markdown",
      "source": [
        "# TensorFlow 기초\n",
        "\n",
        "* Tensorflow는 Tensor의 흐름을 이야기 한다.\n",
        "* tensor가 한연산에서 다른 연산으로 흐르는 것을 이야기 한다.\n",
        "* 아래의 코드들은 이러한 tensor를 만들고 다루는 법에 대해 나와있다.\n",
        "\n"
      ],
      "metadata": {
        "id": "WXqJ908rbeae"
      }
    },
    {
      "cell_type": "markdown",
      "source": [
        "# tf.constant\n",
        "\n",
        "* tf.constant로 행렬을 만들 수 있다.\n",
        "* 아래의 경우 2행 3열의 행렬이 만들어진다.\n",
        "* numpy 행렬과 비슷하게 tf.Tensor는 크기 (shape)과 데이터타입 (dtype)을 가진다.\n",
        "* 아래의 코드를 확인하면 그에 대한 내용을 확인 할 수 있다."
      ],
      "metadata": {
        "id": "r0vawhQpcCCq"
      }
    },
    {
      "cell_type": "code",
      "execution_count": 1,
      "metadata": {
        "id": "YoRXabSNbVt9"
      },
      "outputs": [],
      "source": [
        "import tensorflow as tf"
      ]
    },
    {
      "cell_type": "code",
      "source": [
        "tf.constant([[1,2,3],[4,5,6]])\n",
        "\n",
        "#tf.constant(10)\n",
        "#행렬이 아닌 스칼라 값도 생성가능"
      ],
      "metadata": {
        "colab": {
          "base_uri": "https://localhost:8080/"
        },
        "id": "VTBK40Geb5c3",
        "outputId": "16107b59-49d6-4d29-c178-8fef07b498af"
      },
      "execution_count": 5,
      "outputs": [
        {
          "output_type": "execute_result",
          "data": {
            "text/plain": [
              "<tf.Tensor: shape=(2, 3), dtype=int32, numpy=\n",
              "array([[1, 2, 3],\n",
              "       [4, 5, 6]], dtype=int32)>"
            ]
          },
          "metadata": {},
          "execution_count": 5
        }
      ]
    },
    {
      "cell_type": "code",
      "source": [
        "p = tf.constant([[1,2,3],[4,5,6]])\n",
        "p.shape"
      ],
      "metadata": {
        "colab": {
          "base_uri": "https://localhost:8080/"
        },
        "id": "TWO3cuY7cUfs",
        "outputId": "b3a0bf4c-9e3c-4434-bdc1-db36cbd59e60"
      },
      "execution_count": 7,
      "outputs": [
        {
          "output_type": "execute_result",
          "data": {
            "text/plain": [
              "TensorShape([2, 3])"
            ]
          },
          "metadata": {},
          "execution_count": 7
        }
      ]
    },
    {
      "cell_type": "code",
      "source": [
        "p.dtype"
      ],
      "metadata": {
        "colab": {
          "base_uri": "https://localhost:8080/"
        },
        "id": "-7Jfg44GcvHd",
        "outputId": "f918c921-1f65-4faa-917d-23b0dcfc8bd0"
      },
      "execution_count": 8,
      "outputs": [
        {
          "output_type": "execute_result",
          "data": {
            "text/plain": [
              "tf.int32"
            ]
          },
          "metadata": {},
          "execution_count": 8
        }
      ]
    },
    {
      "cell_type": "markdown",
      "source": [
        "# 인덱스 참조\n",
        "\n",
        "* 아래의 코드를 통해서 확인하면 인덱스를 참조하는 방식도 numpy와 유사한것을 알 수 있다."
      ],
      "metadata": {
        "id": "M9j0w3GXdB5A"
      }
    },
    {
      "cell_type": "code",
      "source": [
        "p[:,1:]"
      ],
      "metadata": {
        "colab": {
          "base_uri": "https://localhost:8080/"
        },
        "id": "9FdJgqZvcz57",
        "outputId": "d3f152e9-06c4-4f39-93f7-d26048afe308"
      },
      "execution_count": 9,
      "outputs": [
        {
          "output_type": "execute_result",
          "data": {
            "text/plain": [
              "<tf.Tensor: shape=(2, 2), dtype=int32, numpy=\n",
              "array([[2, 3],\n",
              "       [5, 6]], dtype=int32)>"
            ]
          },
          "metadata": {},
          "execution_count": 9
        }
      ]
    },
    {
      "cell_type": "code",
      "source": [
        "p[...,1,tf.newaxis]"
      ],
      "metadata": {
        "colab": {
          "base_uri": "https://localhost:8080/"
        },
        "id": "qT64SWu2c5FO",
        "outputId": "cd4e129a-bb75-4898-dc1f-10ddb2c90bcf"
      },
      "execution_count": 10,
      "outputs": [
        {
          "output_type": "execute_result",
          "data": {
            "text/plain": [
              "<tf.Tensor: shape=(2, 1), dtype=int32, numpy=\n",
              "array([[2],\n",
              "       [5]], dtype=int32)>"
            ]
          },
          "metadata": {},
          "execution_count": 10
        }
      ]
    },
    {
      "cell_type": "markdown",
      "source": [
        "# 텐서 연산\n",
        "\n",
        "* p + 10의 경우 행렬값 모두에 10이 더해지는 것을 확인할 수 있다.\n",
        "* tf.square를 통해 확인한 경우 제곱값으로 행렬값이 바뀌는 것을 확인할 수 있다.\n",
        "* p + 10의 경우 tf.add(p,10)과 같은 경우고 이를 호출하는 것과 같다.\n",
        "* @ 연산은 행렬곱을 위한 연산으로 tf.matmul() 함수 호출과 같다.\n",
        "* 텐서플로우의 경우 transpose는 전치된 행렬의 복사본으로 새로운 tensor가 만들어진다.\n",
        "\n",
        "# 텐서플로우 기본 수학 연산\n",
        "\n",
        "* tf.add()\n",
        "* tf.multiply()\n",
        "* tf.square()\n",
        "* tf.exp()\n",
        "* tf.sqrt()\n",
        "* tf.reshape() [넘파이와 유사]\n",
        "* tf.squeeze() [넘파이와 유사]\n",
        "* tf.title() [넘파이와 유사]\n",
        "\n",
        "# 넘파이와 겹치지만 이름이 다른 함수들\n",
        "\n",
        "* tf.reduce_mean() = np.mean() \n",
        "* tf.reduce_sum() = np.sum()\n",
        "* tf.reduce_max() = np.max()\n",
        "* tf.math.log() = np.log()\n",
        "\n"
      ],
      "metadata": {
        "id": "NsQ_Q5r9dVQ8"
      }
    },
    {
      "cell_type": "code",
      "source": [
        "p + 10"
      ],
      "metadata": {
        "colab": {
          "base_uri": "https://localhost:8080/"
        },
        "id": "SP4P15M8dKIC",
        "outputId": "31092b6d-929f-4e44-9bde-f9ec768449de"
      },
      "execution_count": 11,
      "outputs": [
        {
          "output_type": "execute_result",
          "data": {
            "text/plain": [
              "<tf.Tensor: shape=(2, 3), dtype=int32, numpy=\n",
              "array([[11, 12, 13],\n",
              "       [14, 15, 16]], dtype=int32)>"
            ]
          },
          "metadata": {},
          "execution_count": 11
        }
      ]
    },
    {
      "cell_type": "code",
      "source": [
        "tf.square(p)"
      ],
      "metadata": {
        "colab": {
          "base_uri": "https://localhost:8080/"
        },
        "id": "TMss_OUYdaSz",
        "outputId": "bab50c90-4e3a-4d9a-a6d1-5f7b5b2699c9"
      },
      "execution_count": 13,
      "outputs": [
        {
          "output_type": "execute_result",
          "data": {
            "text/plain": [
              "<tf.Tensor: shape=(2, 3), dtype=int32, numpy=\n",
              "array([[ 1,  4,  9],\n",
              "       [16, 25, 36]], dtype=int32)>"
            ]
          },
          "metadata": {},
          "execution_count": 13
        }
      ]
    },
    {
      "cell_type": "code",
      "source": [
        "p @ tf.transpose(p)"
      ],
      "metadata": {
        "colab": {
          "base_uri": "https://localhost:8080/"
        },
        "id": "IRl57mZgdf04",
        "outputId": "d0573433-8200-4ff3-dae6-b362d5bb7829"
      },
      "execution_count": 16,
      "outputs": [
        {
          "output_type": "execute_result",
          "data": {
            "text/plain": [
              "<tf.Tensor: shape=(2, 2), dtype=int32, numpy=\n",
              "array([[14, 32],\n",
              "       [32, 77]], dtype=int32)>"
            ]
          },
          "metadata": {},
          "execution_count": 16
        }
      ]
    },
    {
      "cell_type": "markdown",
      "source": [
        "# keras의 저수준 API\n",
        "\n",
        "* square() / exp() / sqrt() 등등\n",
        "* keras.backend에 keras의 저수준 API가 들어있다.\n",
        "* 아래는 keras의 저수준 API인 keras.backend의 사용 예시다."
      ],
      "metadata": {
        "id": "pxPik4iWfQ7E"
      }
    },
    {
      "cell_type": "code",
      "source": [
        "from tensorflow import keras\n",
        "K = keras.backend\n",
        "K.square(K.transpose(p)) + 9"
      ],
      "metadata": {
        "colab": {
          "base_uri": "https://localhost:8080/"
        },
        "id": "Nacyk-j7fPmP",
        "outputId": "05eedaac-3e80-4312-a1bf-49a3b6c3be79"
      },
      "execution_count": 17,
      "outputs": [
        {
          "output_type": "execute_result",
          "data": {
            "text/plain": [
              "<tf.Tensor: shape=(3, 2), dtype=int32, numpy=\n",
              "array([[10, 25],\n",
              "       [13, 34],\n",
              "       [18, 45]], dtype=int32)>"
            ]
          },
          "metadata": {},
          "execution_count": 17
        }
      ]
    },
    {
      "cell_type": "markdown",
      "source": [
        "# 넘파이와 텐서플로우\n",
        "\n",
        "* 텐서플로우와 넘파이는 같이 사용하기 좋다.\n",
        "* 텐서를 넘파이 배열로 , 넘파이 배열을 텐서로 바꾸는 과정이 어렵지 않기 때문이다.\n",
        "* 따라서 넘파이 연산이나 텐서플로우 연산을 모두 사용할 수 있다는 것이다."
      ],
      "metadata": {
        "id": "gWpJHHSLfz9V"
      }
    },
    {
      "cell_type": "code",
      "source": [
        "import numpy as np\n",
        "a = np.array([2,4,5])\n",
        "tf.constant(a)\n",
        "#constant()를 통해 넘파이 배열을 텐서로 변환"
      ],
      "metadata": {
        "colab": {
          "base_uri": "https://localhost:8080/"
        },
        "id": "CdLjbqp1gCA5",
        "outputId": "8d7da432-f84c-4345-aae0-8831c80827a4"
      },
      "execution_count": 18,
      "outputs": [
        {
          "output_type": "execute_result",
          "data": {
            "text/plain": [
              "<tf.Tensor: shape=(3,), dtype=int64, numpy=array([2, 4, 5])>"
            ]
          },
          "metadata": {},
          "execution_count": 18
        }
      ]
    },
    {
      "cell_type": "code",
      "source": [
        "p.numpy()\n",
        "#numpy()를 통해 텐서를 넘파이 배열로 변환"
      ],
      "metadata": {
        "colab": {
          "base_uri": "https://localhost:8080/"
        },
        "id": "qzcDJNH9gbW9",
        "outputId": "d43170ba-29d0-4fea-dc03-7cdb69845764"
      },
      "execution_count": 19,
      "outputs": [
        {
          "output_type": "execute_result",
          "data": {
            "text/plain": [
              "array([[1, 2, 3],\n",
              "       [4, 5, 6]], dtype=int32)"
            ]
          },
          "metadata": {},
          "execution_count": 19
        }
      ]
    },
    {
      "cell_type": "code",
      "source": [
        "tf.square(a)"
      ],
      "metadata": {
        "colab": {
          "base_uri": "https://localhost:8080/"
        },
        "id": "W2X4400dgnJU",
        "outputId": "9616158a-20b5-4e42-b6eb-6026e682bd7d"
      },
      "execution_count": 20,
      "outputs": [
        {
          "output_type": "execute_result",
          "data": {
            "text/plain": [
              "<tf.Tensor: shape=(3,), dtype=int64, numpy=array([ 4, 16, 25])>"
            ]
          },
          "metadata": {},
          "execution_count": 20
        }
      ]
    },
    {
      "cell_type": "code",
      "source": [
        "np.square(p)\n",
        "\n",
        "#위의 두 코드처럼 넘파이 , 텐서플로우 연산을 자유자재로 사용 가능하다.\n",
        "\n",
        "\n",
        "#넘파이는 64비트 정밀도 / 텐서플로우는 32비트 정밀도\n",
        "#넘파이 배열로 텐서를 만들때는 dtype = tf.float32 여야 한다."
      ],
      "metadata": {
        "colab": {
          "base_uri": "https://localhost:8080/"
        },
        "id": "JeVySTZRgpnE",
        "outputId": "0318e54e-8950-4baa-9bee-9f3b2104e48d"
      },
      "execution_count": 21,
      "outputs": [
        {
          "output_type": "execute_result",
          "data": {
            "text/plain": [
              "array([[ 1,  4,  9],\n",
              "       [16, 25, 36]], dtype=int32)"
            ]
          },
          "metadata": {},
          "execution_count": 21
        }
      ]
    },
    {
      "cell_type": "markdown",
      "source": [
        "# 타입 변환\n",
        "\n",
        "* 다른 타입끼리의 연산시 타입이 자동으로 변환될 수 있다.\n",
        "* 이는 사용자에게 혼동을 유발하고 잘못된 결과가 나오게 할 수 있다.\n",
        "* 따라서 텐서플로우는 이러한 자동 타입 변환을 막고 있다.\n",
        "* 예를 들어 정수 tensor와 실수 tensor는 서로 더할 수 없다.\n",
        "* ex) tf.constant(2) + tf.constant(5.1) => error\n",
        "* 타입변환이 필요한 경우 tf.cast() 함수를 통해 구현 가능하다."
      ],
      "metadata": {
        "id": "hHCITUbBg6zy"
      }
    },
    {
      "cell_type": "code",
      "source": [
        "pp = tf.constant(5.1, dtype=tf.float64)\n",
        "tf.constant(2.1) + tf.cast(pp, tf.float32)"
      ],
      "metadata": {
        "colab": {
          "base_uri": "https://localhost:8080/"
        },
        "id": "NeUTF8V4mL9_",
        "outputId": "ef773be5-e182-4a5d-908c-11b1b7269dc7"
      },
      "execution_count": 25,
      "outputs": [
        {
          "output_type": "execute_result",
          "data": {
            "text/plain": [
              "<tf.Tensor: shape=(), dtype=float32, numpy=7.2>"
            ]
          },
          "metadata": {},
          "execution_count": 25
        }
      ]
    },
    {
      "cell_type": "markdown",
      "source": [
        "# 변수\n",
        "\n",
        "* tf.Tensor는 constant 즉 상수 , 변경되지 않는다.\n",
        "* tensor의 내용을 바꾸기 위해선 상수가 아닌 변수로 만들어야 한다.\n",
        "* tf.Variable로 이를 만들 수 있다.\n",
        "* 즉 tf.constant는 상수 tensor , tf.Variable은 변수 tensor를 만든다.\n",
        "\n",
        "# tf.Variable\n",
        "\n",
        "* tf.Variable 역시 constant와 비슷하게 넘파이와 호환된다.\n",
        "* 또한 데이터 타입 역시 마찬가지다.\n",
        "* 내부의 값을 바꾸고 싶으면 assign() 메소드를 사용하면 된다.\n",
        "* assign_add() / assign_sub() 등을 통해 더하고 뺄 수도 있다.\n",
        "* 원소에 assign() 메소드 혹은 scatter_update() , scatter_nd_update()를 통해 개별원소나 슬라이스를 수정 할 수도 있다."
      ],
      "metadata": {
        "id": "1yp17sw-mtzY"
      }
    },
    {
      "cell_type": "code",
      "source": [
        ""
      ],
      "metadata": {
        "id": "62JJjp20nfl1"
      },
      "execution_count": null,
      "outputs": []
    },
    {
      "cell_type": "code",
      "source": [
        "o = tf.Variable([[1,2,3],[4,5,6]])\n",
        "o"
      ],
      "metadata": {
        "colab": {
          "base_uri": "https://localhost:8080/"
        },
        "id": "2TlZQKWwnFA4",
        "outputId": "12b603ad-5e3f-410d-bf6a-0646609890fa"
      },
      "execution_count": 26,
      "outputs": [
        {
          "output_type": "execute_result",
          "data": {
            "text/plain": [
              "<tf.Variable 'Variable:0' shape=(2, 3) dtype=int32, numpy=\n",
              "array([[1, 2, 3],\n",
              "       [4, 5, 6]], dtype=int32)>"
            ]
          },
          "metadata": {},
          "execution_count": 26
        }
      ]
    },
    {
      "cell_type": "code",
      "source": [
        "o.assign(3*o)\n",
        "#o 행렬에 곱하기 3"
      ],
      "metadata": {
        "colab": {
          "base_uri": "https://localhost:8080/"
        },
        "id": "7RR40scknKim",
        "outputId": "09da0fb9-1139-4ae8-f774-6010804a1bda"
      },
      "execution_count": 27,
      "outputs": [
        {
          "output_type": "execute_result",
          "data": {
            "text/plain": [
              "<tf.Variable 'UnreadVariable' shape=(2, 3) dtype=int32, numpy=\n",
              "array([[ 3,  6,  9],\n",
              "       [12, 15, 18]], dtype=int32)>"
            ]
          },
          "metadata": {},
          "execution_count": 27
        }
      ]
    },
    {
      "cell_type": "code",
      "source": [
        "o[0,1].assign(77)\n",
        "#행렬값 변경"
      ],
      "metadata": {
        "colab": {
          "base_uri": "https://localhost:8080/"
        },
        "id": "YO8mfldtn24H",
        "outputId": "9ab76b61-6461-4d94-ef86-9d41dd175c9a"
      },
      "execution_count": 28,
      "outputs": [
        {
          "output_type": "execute_result",
          "data": {
            "text/plain": [
              "<tf.Variable 'UnreadVariable' shape=(2, 3) dtype=int32, numpy=\n",
              "array([[ 3, 77,  9],\n",
              "       [12, 15, 18]], dtype=int32)>"
            ]
          },
          "metadata": {},
          "execution_count": 28
        }
      ]
    },
    {
      "cell_type": "code",
      "source": [
        "o[:,2].assign([99,999])\n",
        "#슬라이스로 행렬값 변경"
      ],
      "metadata": {
        "colab": {
          "base_uri": "https://localhost:8080/"
        },
        "id": "yFvVe9kWn9nI",
        "outputId": "335944b9-cf31-42a1-ee7f-c81a7ae38164"
      },
      "execution_count": 29,
      "outputs": [
        {
          "output_type": "execute_result",
          "data": {
            "text/plain": [
              "<tf.Variable 'UnreadVariable' shape=(2, 3) dtype=int32, numpy=\n",
              "array([[  3,  77,  99],\n",
              "       [ 12,  15, 999]], dtype=int32)>"
            ]
          },
          "metadata": {},
          "execution_count": 29
        }
      ]
    },
    {
      "cell_type": "code",
      "source": [
        "o.scatter_nd_update(indices=[[0,0],[1,2]], updates=[100,200])\n",
        "#[0,0] 과 [1,2]의 행렬값을 updates 뒤쪽의 값으로 업데이트함"
      ],
      "metadata": {
        "colab": {
          "base_uri": "https://localhost:8080/"
        },
        "id": "z2Iw2qf-oGFQ",
        "outputId": "f329ac43-7daa-4213-e9a0-5f6d769e2e64"
      },
      "execution_count": 30,
      "outputs": [
        {
          "output_type": "execute_result",
          "data": {
            "text/plain": [
              "<tf.Variable 'UnreadVariable' shape=(2, 3) dtype=int32, numpy=\n",
              "array([[100,  77,  99],\n",
              "       [ 12,  15, 200]], dtype=int32)>"
            ]
          },
          "metadata": {},
          "execution_count": 30
        }
      ]
    },
    {
      "cell_type": "markdown",
      "source": [
        "# 텐서플로우의 다양한 데이터 구조\n",
        "\n",
        "### 희소 텐서 (tf.SparseTensor)\n",
        "\n",
        "* sparse한 텐서, tf.sparse 패키지는 희소 텐서를 위한 연산을 제공함\n",
        "\n",
        "### 텐서 배열 (tf.TensorArray)\n",
        "\n",
        "* 텐서의 리스트다.\n",
        "* 기본적으로는 고정된 길이 하지만 동적으로 바꿀 수 있음\n",
        "* 리스트에 포함된 모든 텐서는 크기 , 데이터 타입이 동일해야함\n",
        "\n",
        "### 래그드 텐서 (tf.RaggedTensor)\n",
        "\n",
        "* 래그드 텐서는 리스트의 리스트다.\n",
        "* 텐서에 포함된 값은 동일한 데이터 타입 하지만 리스트의 길이는 다를 수 있음\n",
        "* tf,ragged 패키지에서 래그드 텐서를 위한 연산을 제공함\n",
        "\n",
        "### 문자열 텐서 (tf.string)\n",
        "\n",
        "* 유니코드가 아닌 바이트 문자열\n",
        "* tf.strings 패키지에서 유니코드 문자열과 이러한 텐서 사이의 변환 연산을 제공함\n",
        "* tf.string은 기본 데이터 타입이라 문자열의 길이가 텐서 크기에 나타나지 않음\n",
        "* 유니코드 텐서로 바꾸면 문자열 길이가 텐서 크기에 표현됨\n",
        "\n",
        "### 집합 (set)\n",
        "\n",
        "* 일반적으로 집합은 텐서 마지막 축의 벡터에 의해 표현된다\n",
        "* tf.sets 패키지에서 집합과 관련된 연산들을 제공함\n",
        "\n",
        "### 큐 (queue)\n",
        "\n",
        "* 큐는 단계별로 텐서를 저장함\n",
        "* 우선순위 큐 / 선입선출 큐 / 패딩 배치 큐 / 원소셔플 큐 등 다양한 큐 구조를 제공한다.\n",
        "* 위의 이러한 클래스들은 tf.queue 패키지에 포함되어 있다."
      ],
      "metadata": {
        "id": "la8b5hS2obpr"
      }
    }
  ]
}